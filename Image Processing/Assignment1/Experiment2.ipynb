{
 "cells": [
  {
   "cell_type": "code",
   "execution_count": 1,
   "id": "dbb086bb",
   "metadata": {},
   "outputs": [],
   "source": [
    "import numpy as np\n",
    "import cv2\n",
    "import skimage.color\n",
    "import skimage.io\n",
    "import matplotlib.pyplot as plt"
   ]
  },
  {
   "cell_type": "code",
   "execution_count": 2,
   "id": "faf4681a",
   "metadata": {},
   "outputs": [
    {
     "name": "stdout",
     "output_type": "stream",
     "text": [
      "[  0   0   0   0   1   1   1   1   2   2   2   2   3   3   3   3   4   4\n",
      "   4   4   5   5   5   5   6   6   6   6   7   7   7   7   8   8   8   8\n",
      "   9   9   9   9  10  10  10  10  11  11  11  11  12  12  12  12  13  13\n",
      "  13  13  14  14  14  14  15  15  15  15  16  17  19  21  23  24  26  28\n",
      "  30  31  33  35  37  38  40  42  44  45  47  49  51  52  54  56  58  59\n",
      "  61  63  65  66  68  70  72  73  75  77  79  80  82  84  86  87  89  91\n",
      "  93  94  96  98 100 101 103 105 107 108 110 112 114 115 117 119 121 122\n",
      " 124 126 128 129 131 133 135 136 138 140 142 143 145 147 149 150 152 154\n",
      " 156 157 159 161 163 164 166 168 170 171 173 175 177 178 180 182 184 185\n",
      " 187 189 191 192 194 196 198 199 201 203 205 206 208 210 212 213 215 217\n",
      " 219 220 222 224 226 227 229 231 233 234 236 238 240 240 240 240 240 241\n",
      " 241 241 241 242 242 242 242 243 243 243 243 244 244 244 244 245 245 245\n",
      " 245 245 246 246 246 246 247 247 247 247 248 248 248 248 249 249 249 249\n",
      " 250 250 250 250 250 251 251 251 251 252 252 252 252 253 253 253 253 254\n",
      " 254 254 254 255]\n"
     ]
    }
   ],
   "source": [
    "img = cv2.imread('../dog.jpg')\n",
    "original = img.copy()\n",
    "xp = [0, 64, 128, 192, 255]\n",
    "fp = [0, 16, 128, 240, 255]\n",
    "x = np.arange(256)\n",
    "table = np.interp(x, xp, fp).astype('uint8')\n",
    "print(table)"
   ]
  },
  {
   "cell_type": "code",
   "execution_count": 3,
   "id": "f8db00a5",
   "metadata": {
    "scrolled": true
   },
   "outputs": [],
   "source": [
    "contrastedImg = cv2.LUT(img, table)"
   ]
  },
  {
   "cell_type": "code",
   "execution_count": 4,
   "id": "279cdd24",
   "metadata": {},
   "outputs": [],
   "source": [
    "cv2.imshow(\"original\", original)\n",
    "cv2.imshow(\"Output\", contrastedImg)\n",
    "cv2.waitKey(0)\n",
    "cv2.destroyAllWindows() "
   ]
  }
 ],
 "metadata": {
  "kernelspec": {
   "display_name": "Python 3 (ipykernel)",
   "language": "python",
   "name": "python3"
  },
  "language_info": {
   "codemirror_mode": {
    "name": "ipython",
    "version": 3
   },
   "file_extension": ".py",
   "mimetype": "text/x-python",
   "name": "python",
   "nbconvert_exporter": "python",
   "pygments_lexer": "ipython3",
   "version": "3.9.7"
  }
 },
 "nbformat": 4,
 "nbformat_minor": 5
}
