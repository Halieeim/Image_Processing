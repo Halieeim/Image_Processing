{
 "cells": [
  {
   "cell_type": "code",
   "execution_count": 1,
   "id": "db16bf55",
   "metadata": {},
   "outputs": [],
   "source": [
    "import cv2 as cv\n",
    "import numpy as np\n",
    "from scipy.stats.kde import gaussian_kde\n",
    "import matplotlib.pyplot as plt"
   ]
  },
  {
   "cell_type": "code",
   "execution_count": 2,
   "id": "1e907020",
   "metadata": {},
   "outputs": [],
   "source": [
    "img  = cv.imread(\"../dog.jpg\")\n",
    "img = img/255"
   ]
  },
  {
   "cell_type": "code",
   "execution_count": 3,
   "id": "1f9edc01",
   "metadata": {},
   "outputs": [],
   "source": [
    "cv.imshow('Original Image', img)\n",
    "cv.waitKey(0)\n",
    "cv.destroyAllWindows()"
   ]
  },
  {
   "cell_type": "code",
   "execution_count": 4,
   "id": "a1af3a13",
   "metadata": {},
   "outputs": [],
   "source": [
    "# create Gaussian noise\n",
    "x,y,c = img.shape\n",
    "mean = 0\n",
    "var = 0.01\n",
    "sigma = np.sqrt(var)\n",
    "n = np.random.normal(loc = mean, scale = sigma, size = (x,y,c))"
   ]
  },
  {
   "cell_type": "code",
   "execution_count": 5,
   "id": "eca7fb7b",
   "metadata": {},
   "outputs": [],
   "source": [
    "cv.imshow('Gaussian noise', n)\n",
    "cv.waitKey(0)\n",
    "cv.destroyAllWindows()"
   ]
  },
  {
   "cell_type": "code",
   "execution_count": 6,
   "id": "8cdfb9ae",
   "metadata": {
    "scrolled": true
   },
   "outputs": [
    {
     "data": {
      "image/png": "[encoded data removed]",
      "text/plain": [
       "<Figure size 432x288 with 1 Axes>"
      ]
     },
     "metadata": {
      "needs_background": "light"
     },
     "output_type": "display_data"
    }
   ],
   "source": [
    "# display the probability density function (pdf)\n",
    "kde = gaussian_kde(n.reshape(int(x*y*c)))\n",
    "dist_space = np.linspace(np.min(n), np.max(n), 100)\n",
    "plt.plot(dist_space, kde(dist_space))\n",
    "plt.xlabel('Noise pixel value')\n",
    "plt.ylabel('Frequency')\n",
    "plt.show()"
   ]
  },
  {
   "cell_type": "code",
   "execution_count": 7,
   "id": "6ec09d9c",
   "metadata": {},
   "outputs": [],
   "source": [
    "# Add a Gaussian noise to the image\n",
    "g = img + n\n",
    "\n",
    "cv.imshow('Original Image', img)\n",
    "cv.imshow('Corrupted Image', g)\n",
    "cv.waitKey(0)\n",
    "cv.destroyAllWindows()"
   ]
  },
  {
   "cell_type": "code",
   "execution_count": 8,
   "id": "2503e89d",
   "metadata": {},
   "outputs": [],
   "source": [
    "# smoothing the corrupted image with averaging filter\n",
    "averaging = cv.blur(g, (5,5))\n",
    "cv.imshow('Original Image', img)\n",
    "cv.imshow('Corrupted Image', g)\n",
    "cv.imshow('Averaging', averaging)\n",
    "cv.waitKey(0)\n",
    "cv.destroyAllWindows()"
   ]
  },
  {
   "cell_type": "code",
   "execution_count": 9,
   "id": "6f3f202d",
   "metadata": {},
   "outputs": [],
   "source": [
    "# smoothing the corrupted image with median filter\n",
    "g = g.astype('float32')\n",
    "median = cv.medianBlur(g, 3)\n",
    "cv.imshow('Original Image', img)\n",
    "cv.imshow('Corrupted Image', g)\n",
    "cv.imshow('Median', median)\n",
    "cv.waitKey(0)\n",
    "cv.destroyAllWindows()"
   ]
  },
  {
   "cell_type": "code",
   "execution_count": 14,
   "id": "e0b59a72",
   "metadata": {},
   "outputs": [],
   "source": [
    "# Sharpening using Perwitt filter\n",
    "kernelX = np.array([[1,1,1],[0,0,0],[-1,-1,-1]])\n",
    "kernelY = np.array([[-1,0,1],[-1,0,1],[-1,0,1]])\n",
    "perwittX = cv.filter2D(img, -1, kernelX)\n",
    "perwittY = cv.filter2D(img, -1, kernelY)\n",
    "sharpenedPerwitt = img + perwittX + perwittY\n",
    "\n",
    "\n",
    "cv.imshow('Original Image', img)\n",
    "#cv.imshow('perwittX', perwittX)\n",
    "#cv.imshow('PerwittY', perwittY)\n",
    "cv.imshow('SharpenedPerwitt', sharpenedPerwitt)\n",
    "cv.waitKey(0)\n",
    "cv.destroyAllWindows()"
   ]
  },
  {
   "cell_type": "code",
   "execution_count": 15,
   "id": "29a3b150",
   "metadata": {},
   "outputs": [],
   "source": [
    "# Sharpening using Sobel filter\n",
    "sobelX = cv.Sobel(img, cv.CV_64F,1,0)\n",
    "sobelY = cv.Sobel(img, cv.CV_64F,0,1)\n",
    "\n",
    "SharpenedSobel = img + sobelX + sobelY\n",
    "\n",
    "cv.imshow('Original Image', img)\n",
    "#cv.imshow('sobelX', sobelX)\n",
    "#cv.imshow('sobelY', sobelY)\n",
    "cv.imshow('SharpenedSobel', SharpenedSobel)\n",
    "cv.waitKey(0)\n",
    "cv.destroyAllWindows()"
   ]
  },
  {
   "cell_type": "code",
   "execution_count": 16,
   "id": "e36ac5c9",
   "metadata": {},
   "outputs": [],
   "source": [
    "cv.imshow('SharpenedPerwitt', sharpenedPerwitt)\n",
    "cv.imshow('SharpenedSobel', SharpenedSobel)\n",
    "cv.waitKey(0)\n",
    "cv.destroyAllWindows()"
   ]
  }
 ],
 "metadata": {
  "kernelspec": {
   "display_name": "Python 3 (ipykernel)",
   "language": "python",
   "name": "python3"
  },
  "language_info": {
   "codemirror_mode": {
    "name": "ipython",
    "version": 3
   },
   "file_extension": ".py",
   "mimetype": "text/x-python",
   "name": "python",
   "nbconvert_exporter": "python",
   "pygments_lexer": "ipython3",
   "version": "3.9.7"
  }
 },
 "nbformat": 4,
 "nbformat_minor": 5
}
