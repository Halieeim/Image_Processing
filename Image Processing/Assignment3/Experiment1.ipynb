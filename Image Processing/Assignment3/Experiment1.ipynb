{
 "cells": [
  {
   "cell_type": "code",
   "execution_count": 1,
   "id": "99fc7274",
   "metadata": {},
   "outputs": [],
   "source": [
    "import cv2 as cv\n",
    "import numpy as np\n",
    "import scipy\n",
    "from scipy.stats.kde import gaussian_kde\n",
    "from scipy.signal import wiener\n",
    "import matplotlib.pyplot as plt\n",
    "import skimage.filters as imgFilters"
   ]
  },
  {
   "cell_type": "code",
   "execution_count": 2,
   "id": "b0fd7a13",
   "metadata": {},
   "outputs": [],
   "source": [
    "img  = cv.imread(\"../dog.jpg\")\n",
    "img = img/255\n",
    "img = cv.resize(img,(400,400))"
   ]
  },
  {
   "cell_type": "code",
   "execution_count": 3,
   "id": "89d3462e",
   "metadata": {},
   "outputs": [],
   "source": [
    "cv.imshow('Original Image', img)\n",
    "cv.waitKey(0)\n",
    "cv.destroyAllWindows()"
   ]
  },
  {
   "cell_type": "code",
   "execution_count": 4,
   "id": "81539375",
   "metadata": {},
   "outputs": [],
   "source": [
    "# create Gaussian noise\n",
    "x,y,c = img.shape\n",
    "mean = 0\n",
    "var = 0.01\n",
    "sigma = np.sqrt(var)\n",
    "n = np.random.normal(loc = mean, scale = sigma, size = (x,y,c))"
   ]
  },
  {
   "cell_type": "code",
   "execution_count": 5,
   "id": "96b95bc3",
   "metadata": {},
   "outputs": [],
   "source": [
    "cv.imshow('Gaussian noise', n)\n",
    "cv.waitKey(0)\n",
    "cv.destroyAllWindows()"
   ]
  },
  {
   "cell_type": "code",
   "execution_count": 6,
   "id": "2b05dcab",
   "metadata": {},
   "outputs": [
    {
     "data": {
      "image/png": "[encoded data removed]",
      "text/plain": [
       "<Figure size 432x288 with 1 Axes>"
      ]
     },
     "metadata": {
      "needs_background": "light"
     },
     "output_type": "display_data"
    }
   ],
   "source": [
    "# display the probability density function (pdf)\n",
    "kde = gaussian_kde(n.reshape(int(x*y*c)))\n",
    "dist_space = np.linspace(np.min(n), np.max(n), 100)\n",
    "plt.plot(dist_space, kde(dist_space))\n",
    "plt.xlabel('Noise pixel value')\n",
    "plt.ylabel('Frequency')\n",
    "plt.show()"
   ]
  },
  {
   "cell_type": "code",
   "execution_count": 7,
   "id": "6df3379b",
   "metadata": {},
   "outputs": [],
   "source": [
    "# Add a Gaussian noise to the image\n",
    "g = img + n\n",
    "\n",
    "cv.imshow('Original Image', img)\n",
    "cv.imshow('Corrupted Image', g)\n",
    "cv.waitKey(0)\n",
    "cv.destroyAllWindows()"
   ]
  },
  {
   "cell_type": "code",
   "execution_count": 12,
   "id": "5d5e40fa",
   "metadata": {},
   "outputs": [],
   "source": [
    "filtered_img = wiener(g, (5,5,1))"
   ]
  },
  {
   "cell_type": "code",
   "execution_count": 13,
   "id": "8bf84155",
   "metadata": {},
   "outputs": [],
   "source": [
    "cv.imshow('Corrupted Image', g)\n",
    "cv.imshow('WienerFilteredImage', filtered_img)\n",
    "cv.waitKey(0)\n",
    "cv.destroyAllWindows()"
   ]
  },
  {
   "cell_type": "code",
   "execution_count": 14,
   "id": "8d1002f6",
   "metadata": {},
   "outputs": [],
   "source": [
    "mean = cv.blur(g, (3,3))\n",
    "median = imgFilters.median(g)\n",
    "\n",
    "\n",
    "# Apply MIN Filter on the Gaussian noise image\n",
    "minimum_filter = scipy.ndimage.minimum_filter(g, 3)\n",
    "\n",
    "# Apply MAX Filter on the Gaussian noise image\n",
    "maximum_filter = scipy.ndimage.maximum_filter(g,3)"
   ]
  },
  {
   "cell_type": "code",
   "execution_count": 15,
   "id": "16f668dc",
   "metadata": {
    "scrolled": true
   },
   "outputs": [],
   "source": [
    "display = [g, filtered_img, mean, median, minimum_filter, maximum_filter]\n",
    "label = [ 'Gaussian Noise','WienerFilteredImage', 'MEAN FILTER','MEDIAN FILTER','Minimum Filter','Maximum Filter']\n",
    "\n",
    "for i in range(len(display)):\n",
    "    cv.imshow(label[i], display[i])\n",
    "    \n",
    "cv.waitKey(0)\n",
    "cv.destroyAllWindows()"
   ]
  },
  {
   "cell_type": "code",
   "execution_count": null,
   "id": "45be7052",
   "metadata": {},
   "outputs": [],
   "source": []
  }
 ],
 "metadata": {
  "kernelspec": {
   "display_name": "Python 3 (ipykernel)",
   "language": "python",
   "name": "python3"
  },
  "language_info": {
   "codemirror_mode": {
    "name": "ipython",
    "version": 3
   },
   "file_extension": ".py",
   "mimetype": "text/x-python",
   "name": "python",
   "nbconvert_exporter": "python",
   "pygments_lexer": "ipython3",
   "version": "3.9.7"
  }
 },
 "nbformat": 4,
 "nbformat_minor": 5
}
